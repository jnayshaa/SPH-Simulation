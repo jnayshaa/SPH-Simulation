{
 "cells": [
  {
   "cell_type": "markdown",
   "metadata": {},
   "source": [
    "## SPH Modelling"
   ]
  },
  {
   "cell_type": "code",
   "execution_count": 1,
   "metadata": {},
   "outputs": [],
   "source": [
    "import numpy as np\n",
    "import os\n",
    "import glob\n",
    "import tqdm\n",
    "import matplotlib.pyplot as plt\n",
    "import cv2\n",
    "\n",
    "# Constants\n",
    "N     = 500                   # Number of particles\n",
    "t     = 0                     # start time of simulation\n",
    "tEnd  = 8                     # end time for simulation\n",
    "dt    = 0.01                  # timestep\n",
    "M     = 2                     # star mass\n",
    "R     = 0.75                  # star radius\n",
    "h     = 0.1                   # smoothing length\n",
    "k     = 0.1                   # equation of state constant\n",
    "n     = 1                     # polytropic index\n",
    "nu    = 100                     # damping - simulates viscosity\n",
    "m     = M/N                   # single particle mass\n",
    "lmbda = 2.01                  # lambda for gravity\n",
    "Nt    = int(np.ceil(tEnd/dt)) # number of timesteps\n",
    "\n",
    "# Initial Conditions (randomize in 3D)\n",
    "def initial():\n",
    "    np.random.seed(42)                # set random number generator seed\n",
    "    pos = np.random.randn(N, 3)       # 3D positions\n",
    "    vel = np.zeros(pos.shape)         # 3D velocities\n",
    "    return pos, vel"
   ]
  },
  {
   "cell_type": "markdown",
   "metadata": {},
   "source": [
    "#### Kernel Function"
   ]
  },
  {
   "cell_type": "code",
   "execution_count": 2,
   "metadata": {},
   "outputs": [],
   "source": [
    "# Gaussian Smoothing Kernel for 3D\n",
    "def kernel(x, y, z, h):\n",
    "  \"\"\"\n",
    "  Input:\n",
    "    x : matrix of x positions\n",
    "    y : matrix of y positions\n",
    "    h : smoothing length\n",
    "\n",
    "  Output:\n",
    "    w : evaluated smoothing function\n",
    "  \"\"\"\n",
    "  r = np.sqrt(x**2 + y**2 + z**2)\n",
    "  w = (1.0 / (h * np.sqrt(np.pi)))**3 * np.exp(-r**2 / h**2)\n",
    "  return w\n",
    "  \n",
    "# Smoothing Kernel Gradient for 3D\n",
    "def gradKernel(x, y, z, h):\n",
    "  \"\"\"\n",
    "  Inputs:\n",
    "    x : matrix of x positions\n",
    "    y : matrix of y positions\n",
    "    h : smoothing length\n",
    "\n",
    "  Outputs:\n",
    "    wx, wy : the evaluated gradient\n",
    "  \"\"\"\n",
    "  r = np.sqrt(x**2 + y**2 + z**2)\n",
    "  n = -2 * np.exp(-r**2 / h**2) / h**5 / (np.pi)**(3/2)\n",
    "  wx = n * x\n",
    "  wy = n * y\n",
    "  wz = n * z\n",
    "  return wx, wy, wz\n",
    "\n",
    "  "
   ]
  },
  {
   "cell_type": "markdown",
   "metadata": {},
   "source": [
    "#### Denisty Calculation"
   ]
  },
  {
   "cell_type": "code",
   "execution_count": 3,
   "metadata": {},
   "outputs": [],
   "source": [
    "#rho_i = sum_j m_j W(|r_i - r_j|, h)\n",
    "#From this formula, we can see that we need to find the distance between all particles to get the density at a \n",
    "# particular position. Hence, we can get the density at every position as shown below.\n",
    "\n",
    "# Solve for the (r_i - r_j) term in the density formula\n",
    "def magnitude(ri, rj):\n",
    "  \"\"\"\n",
    "  Inputs:\n",
    "    ri : M x 2 matrix of positions\n",
    "    rj : N x 2 matrix of positions\n",
    "  \n",
    "  Output:\n",
    "    dx, dy : M x N matrix of separations\n",
    "  \"\"\"\n",
    "  M = ri.shape[0]\n",
    "  N = rj.shape[0]\n",
    "  r_i_x, r_i_y, r_i_z = ri[:, 0].reshape((M, 1)), ri[:, 1].reshape((M, 1)), ri[:, 2].reshape((M, 1))\n",
    "  r_j_x, r_j_y, r_j_z = rj[:, 0].reshape((N, 1)), rj[:, 1].reshape((N, 1)), rj[:, 2].reshape((N, 1))\n",
    "  dx = r_i_x - r_j_x.T\n",
    "  dy = r_i_y - r_j_y.T\n",
    "  dz = r_i_z - r_j_z.T\n",
    "  return dx, dy, dz\n",
    "\n",
    "\n",
    "# Get density at sample points (3D)\n",
    "def density(r, pos, m, h):\n",
    "  \"\"\"\n",
    "  Inputs:\n",
    "    r   : M x 3 matrix of sampling locations\n",
    "    pos : N x 3 matrix of particle positions\n",
    "    m   : particle mass\n",
    "    h   : smoothing length\n",
    "\n",
    "  Output:\n",
    "    rho : M x 1 vector of densities\n",
    "  \"\"\"\n",
    "  M = r.shape[0]\n",
    "  dx, dy, dz = magnitude(r, pos)\n",
    "  rho = np.sum(m * kernel(dx, dy, dz, h), 1).reshape((M, 1))\n",
    "  return rho"
   ]
  },
  {
   "cell_type": "markdown",
   "metadata": {},
   "source": [
    "#### Pressure Calculation"
   ]
  },
  {
   "cell_type": "code",
   "execution_count": 4,
   "metadata": {},
   "outputs": [],
   "source": [
    "#Find Pressure\n",
    "def pressure(rho, k, n):\n",
    "  \"\"\"\n",
    "  Inputs:\n",
    "    rho : M x 1 matrix of densities\n",
    "    k   : equation of state constant\n",
    "    n   : polytropic index\n",
    "\n",
    "  Output:\n",
    "    P   : M x 1 matrix of pressures\n",
    "  \"\"\"\n",
    "  P = k * rho**(1 + 1/n)\n",
    "  return P"
   ]
  },
  {
   "cell_type": "markdown",
   "metadata": {},
   "source": [
    "#### Acceleration Calculation"
   ]
  },
  {
   "cell_type": "code",
   "execution_count": 5,
   "metadata": {},
   "outputs": [],
   "source": [
    "# Calculate acceleration on particles\n",
    "def acceleration(pos, vel, m, h, k, n, lmbda, nu):\n",
    "  \"\"\"\n",
    "  Inputs:\n",
    "    pos   : N x 2 matrix of positions\n",
    "    vel   : N x 2 matrix of velocities\n",
    "    m     : particle mass\n",
    "    h     : smoothing length\n",
    "    k     : equation of state constant\n",
    "    n     : polytropic index\n",
    "    lmbda : external force constant\n",
    "    nu    : viscosity\n",
    "\n",
    "  Output:\n",
    "    a : N x 3 matrix of accelerations\n",
    "  \"\"\"\n",
    "  \n",
    "  N = pos.shape[0]\n",
    "  \n",
    "  # Calculate densities\n",
    "  rho = density(pos, pos, m, h)\n",
    "  \n",
    "  # Get pressures\n",
    "  P = pressure(rho, k, n)\n",
    "  \n",
    "  # Get pairwise distances and gradients\n",
    "  dx, dy, dz = magnitude(pos, pos)\n",
    "  dWx, dWy, dWz = gradKernel(dx, dy, dz, h)\n",
    "  \n",
    "  # Add Pressure contribution to accelerations\n",
    "  ax = - np.sum(m * (P/rho**2 + P.T/rho.T**2) * dWx, 1).reshape((N, 1))\n",
    "  ay = - np.sum(m * (P/rho**2 + P.T/rho.T**2) * dWy, 1).reshape((N, 1))\n",
    "  az = - np.sum(m * (P/rho**2 + P.T/rho.T**2) * dWz, 1).reshape((N, 1))\n",
    "  \n",
    "  # Pack acceleration components\n",
    "  a = np.hstack((ax,ay,az))\n",
    "  \n",
    "  # Add external forces\n",
    "  a += -lmbda * pos - nu * vel\n",
    "  \n",
    "  # Return total acceleration\n",
    "  return a"
   ]
  },
  {
   "cell_type": "markdown",
   "metadata": {},
   "source": [
    "#### Main Loop Simulation"
   ]
  },
  {
   "cell_type": "code",
   "execution_count": 6,
   "metadata": {},
   "outputs": [
    {
     "name": "stderr",
     "output_type": "stream",
     "text": [
      "  0%|          | 0/800 [00:00<?, ?it/s]"
     ]
    },
    {
     "name": "stderr",
     "output_type": "stream",
     "text": [
      "100%|██████████| 800/800 [01:30<00:00,  8.84it/s]\n"
     ]
    }
   ],
   "source": [
    "# Creates folder if it doesn't exist\n",
    "if not os.path.exists('output_3D_1'):\n",
    "    os.mkdir('output_3D_1')\n",
    "else:\n",
    "    files = glob.glob('output_3D_1/*.png')\n",
    "    for f in files:\n",
    "        os.remove(f)\n",
    "\n",
    "# Disable inline printing to prevent all graphs from being shown\n",
    "pos, vel = initial()\n",
    "\n",
    "# Start loop\n",
    "for i in tqdm.tqdm(range(Nt)):\n",
    "    acc = acceleration(pos, vel, m, h, k, n, lmbda, nu)\n",
    "    vel += acc * dt\n",
    "    pos += vel * dt\n",
    "    rho = density(pos, pos, m, h)\n",
    "\n",
    "    # Plot (using 3D plotting)\n",
    "    fig = plt.figure(figsize=(6, 6))\n",
    "    ax = fig.add_subplot(111, projection='3d')\n",
    "\n",
    "    plt.cla()\n",
    "    cval = np.minimum((rho - 3) / 3, 1).flatten()\n",
    "\n",
    "    # 3D scatter plot\n",
    "    ax.scatter(pos[:, 0], pos[:, 1], pos[:, 2], c=cval, cmap=plt.cm.autumn, s=5, alpha=0.75) #color is changing based on density\n",
    "\n",
    "    # Set plot limits\n",
    "    ax.set_xlim(-2.5, 2.5)\n",
    "    ax.set_ylim(-2.5, 2.5)\n",
    "    ax.set_zlim(-2.5, 2.5)\n",
    "\n",
    "    # Save plot\n",
    "    plt.savefig(f'output_3D_1/{i}.png')\n",
    "    plt.close()"
   ]
  },
  {
   "cell_type": "markdown",
   "metadata": {},
   "source": [
    "#### Animation"
   ]
  },
  {
   "cell_type": "code",
   "execution_count": 7,
   "metadata": {},
   "outputs": [
    {
     "name": "stderr",
     "output_type": "stream",
     "text": [
      "  0%|          | 0/800 [00:00<?, ?it/s]"
     ]
    },
    {
     "name": "stderr",
     "output_type": "stream",
     "text": [
      "100%|██████████| 800/800 [00:05<00:00, 149.22it/s]\n",
      "OpenCV: FFMPEG: tag 0x5634504d/'MP4V' is not supported with codec id 12 and format 'mp4 / MP4 (MPEG-4 Part 14)'\n",
      "OpenCV: FFMPEG: fallback to use tag 0x7634706d/'mp4v'\n",
      "100%|██████████| 800/800 [00:01<00:00, 737.82it/s]"
     ]
    },
    {
     "name": "stdout",
     "output_type": "stream",
     "text": [
      "Video saved as simulation_3D_1.mp4\n"
     ]
    },
    {
     "name": "stderr",
     "output_type": "stream",
     "text": [
      "\n"
     ]
    }
   ],
   "source": [
    "import re\n",
    "# Create video from the saved frames\n",
    "img_array = []\n",
    "imgs_list = glob.glob('output_3D_1/*.png')\n",
    "\n",
    "# Sort images based on the numerical part of the filename\n",
    "lsorted = sorted(imgs_list, key=lambda x: int(re.search(r'(\\d+)', os.path.basename(x)).group()))\n",
    "\n",
    "# Read and store the frames\n",
    "for filename in tqdm.tqdm(lsorted):\n",
    "    img = cv2.imread(filename)\n",
    "    height, width, layers = img.shape\n",
    "    size = (width, height)\n",
    "    img_array.append(img)\n",
    "\n",
    "# Create VideoWriter object to save the video\n",
    "out = cv2.VideoWriter('simulation_3D_1.mp4', cv2.VideoWriter_fourcc(*'MP4V'), 30, size)\n",
    "\n",
    "# Write frames to the video\n",
    "for i in tqdm.tqdm(range(len(img_array))):\n",
    "    out.write(img_array[i])\n",
    "\n",
    "out.release()\n",
    "\n",
    "print(\"Video saved as simulation_3D_1.mp4\")"
   ]
  }
 ],
 "metadata": {
  "kernelspec": {
   "display_name": "base",
   "language": "python",
   "name": "python3"
  },
  "language_info": {
   "codemirror_mode": {
    "name": "ipython",
    "version": 3
   },
   "file_extension": ".py",
   "mimetype": "text/x-python",
   "name": "python",
   "nbconvert_exporter": "python",
   "pygments_lexer": "ipython3",
   "version": "3.11.8"
  }
 },
 "nbformat": 4,
 "nbformat_minor": 2
}
